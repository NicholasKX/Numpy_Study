{
 "cells": [
  {
   "cell_type": "markdown",
   "metadata": {},
   "source": [
    "<img src=\"封面.png\">"
   ]
  },
  {
   "cell_type": "markdown",
   "metadata": {},
   "source": [
    "# Jupyter入门操作练习"
   ]
  },
  {
   "cell_type": "markdown",
   "metadata": {
    "heading_collapsed": true
   },
   "source": [
    "## 入门操作练习实验目的：\n",
    "- 带领学员熟悉Jupyter实验平台的基本操作\n",
    "- 掌握 Jupyter Notebook 的操作要领"
   ]
  },
  {
   "cell_type": "markdown",
   "metadata": {
    "heading_collapsed": true
   },
   "source": [
    "## Jupyter Notebook的优点：\n",
    "  - 极其适合数据分析\n",
    "    想象一下如下混乱的场景：你在终端中运行程序，可视化结果却显示在另一个窗口中，包含函数和类的脚本存在其他文档中，更可恶的是你还需另外写一份说明文档来解释程序如何执行以及结果如何。此时 Jupyter Notebook 从天而降，将所有内容收归一处，你是不是顿觉灵台清明，思路更加清晰了呢？\n",
    "  - 支持多语言\n",
    "    也许你习惯使用 R 语言来做数据分析，或者是想用学术界常用的 MATLAB 和 Mathematica，这些都不成问题，只要安装相对应的核（kernel）即可。[这里](https://github.com/jupyter/jupyter/wiki/Jupyter-kernels)列出了 Jupyter 支持的所有语言，供您参考。\n",
    "  - 分享便捷\n",
    "    支持以网页的形式分享，GitHub 中天然支持 Notebook 展示，也可以通过 [nbviewer](http://nbviewer.jupyter.org/) 分享你的文档。当然也支持导出成 HTML、Markdown 、PDF 等多种格式的文档。\n",
    "  - 远程运行\n",
    "    在任何地点都可以通过网络链接远程服务器来实现运算，这里给出一个远程运行的[例子](https://try.jupyter.org/)，可以体验一下 Jupyter Notebook。\n",
    "  - 交互式展现\n",
    "    不仅可以输出图片、视频、数学公式，甚至可以呈现一些互动的可视化内容，比如可以缩放的地图或者是可以旋转的三维模型。这就需要交互式插件（Interactive widgets）来支持，更多内容请参考[这里](http://jupyter.org/widgets.html)。\n",
    ">- REF：http://www.jianshu.com/p/86117613b7a6\n",
    ">- REF：具体细节可见[The cell magics in IPython](http://nbviewer.jupyter.org/github/ipython/ipython/blob/1.x/examples/notebooks/Cell%20Magics.ipynb#The-cell-magics-in-IPython)\n",
    ">- REF：更详细的清单请参考 [Built-in magic commands](http://ipython.readthedocs.io/en/stable/interactive/magics.html)\n",
    ">- REF： [Python·Jupyter Notebook各种使用方法记录·持续更新](http://blog.csdn.net/tina_ttl/article/details/51031113)\n",
    ">- REF： [Cmd Markdown 简明语法手册](https://www.zybuluo.com/static/editor/cmd-manual.html)"
   ]
  },
  {
   "cell_type": "markdown",
   "metadata": {},
   "source": [
    "##  Jupyter实验平台使用练习"
   ]
  },
  {
   "cell_type": "markdown",
   "metadata": {},
   "source": [
    "--------\n",
    "### 步骤2：熟悉工具栏\n",
    "\n",
    "下图中标识了工具栏区域的主要操作。\n",
    "\n",
    "![](Menu.png)"
   ]
  },
  {
   "cell_type": "code",
   "execution_count": null,
   "metadata": {
    "collapsed": true
   },
   "outputs": [],
   "source": [
    "#操作练习#：增加一行"
   ]
  },
  {
   "cell_type": "code",
   "execution_count": null,
   "metadata": {
    "collapsed": true
   },
   "outputs": [],
   "source": [
    "#操作练习#：把cell剪切走"
   ]
  },
  {
   "cell_type": "code",
   "execution_count": null,
   "metadata": {},
   "outputs": [],
   "source": [
    "a"
   ]
  },
  {
   "cell_type": "code",
   "execution_count": null,
   "metadata": {
    "collapsed": true
   },
   "outputs": [],
   "source": [
    "#操作练习#: 把cell复制，并粘贴在下方..."
   ]
  },
  {
   "cell_type": "code",
   "execution_count": null,
   "metadata": {
    "collapsed": true
   },
   "outputs": [],
   "source": [
    "#操作练习#： 把cell移动到上方..."
   ]
  },
  {
   "cell_type": "markdown",
   "metadata": {},
   "source": [
    "-------\n",
    "### 步骤3：熟悉代码区操作\n",
    "\n",
    "![](http://onm3nv9z1.bkt.clouddn.com/%E4%BB%A3%E7%A0%81%E8%A1%8C%E8%BF%90%E8%A1%8C.png)\n",
    "\n",
    "点击**编辑栏-Cell**，可以选择相应功能，运行部分/全部代码行。\n",
    "\n",
    "点击**工具栏-运行按钮**可以运行当前行的代码(也可以使用组合快捷键** Shift+Enter **来代替运行按钮)"
   ]
  },
  {
   "cell_type": "code",
   "execution_count": 1,
   "metadata": {},
   "outputs": [
    {
     "name": "stdout",
     "output_type": "stream",
     "text": [
      "hello world!\n"
     ]
    }
   ],
   "source": [
    "#操作练习：运行下方代码，查看输出结果\n",
    "print(\"hello world!\")"
   ]
  },
  {
   "cell_type": "code",
   "execution_count": 2,
   "metadata": {},
   "outputs": [
    {
     "data": {
      "text/plain": [
       "3"
      ]
     },
     "execution_count": 2,
     "metadata": {},
     "output_type": "execute_result"
    }
   ],
   "source": [
    "#操作练习：运行下方代码，查看输出结果\n",
    "1+2"
   ]
  },
  {
   "cell_type": "markdown",
   "metadata": {},
   "source": [
    "-------\n",
    "### 步骤4：熟悉快捷键操作"
   ]
  },
  {
   "cell_type": "markdown",
   "metadata": {},
   "source": [
    "其实，除了点击上面的工具栏,大部分操作都可以通过**键盘快捷键**来完成, 可以大大提高操作效率。\n",
    "\n",
    "详细的键盘快捷操作信息可以点击下图这个按钮来查看到。\n",
    "接下来介绍一些最常用的快捷键操作。\n",
    "\n",
    "![](http://onm3nv9z1.bkt.clouddn.com/%E5%BF%AB%E6%8D%B7%E9%94%AE%E9%94%AE%E7%9B%98.png)"
   ]
  },
  {
   "cell_type": "markdown",
   "metadata": {},
   "source": [
    "  - **b**：在当前行下面插入新的cell*（命令模式）*\n",
    "  - **a**：在当前行上面插入新的cell*（命令模式）*\n",
    "  - **dd **(敲击d键两下)：删除当前cell*（命令模式）*\n",
    "  - **z**：撤销对某个cell的删除*（命令模式）*"
   ]
  },
  {
   "cell_type": "code",
   "execution_count": null,
   "metadata": {
    "collapsed": true
   },
   "outputs": [],
   "source": [
    "#操作练习: 敲击 b 键,在我下面增加一行..."
   ]
  },
  {
   "cell_type": "code",
   "execution_count": null,
   "metadata": {},
   "outputs": [],
   "source": []
  },
  {
   "cell_type": "code",
   "execution_count": null,
   "metadata": {
    "collapsed": true
   },
   "outputs": [],
   "source": [
    "#操作练习: 敲击 a键,在我上面增加一行..."
   ]
  },
  {
   "cell_type": "code",
   "execution_count": null,
   "metadata": {},
   "outputs": [],
   "source": []
  },
  {
   "cell_type": "code",
   "execution_count": null,
   "metadata": {
    "collapsed": true
   },
   "outputs": [],
   "source": [
    "#操作练习: 双击 d 键,删除我这行..."
   ]
  },
  {
   "cell_type": "markdown",
   "metadata": {
    "collapsed": true
   },
   "source": [
    "### 操作练习: 双击 d 键,删除我这行..."
   ]
  },
  {
   "cell_type": "markdown",
   "metadata": {},
   "source": [
    "# "
   ]
  },
  {
   "cell_type": "markdown",
   "metadata": {},
   "source": [
    "  - **m** : 将当前行由代码模式转换成 Markdown 模式\n",
    "  - **1**：将当前的cell转化为具有一级标题的 Maskdown *(命令模式)*\n",
    "  - **2**：将当前的cell转化为具有二级标题的 Maskdown *(命令模式)*\n",
    "  - **3**：将当前的cell转化为具有三级标题的 Maskdown *(命令模式)*"
   ]
  },
  {
   "cell_type": "markdown",
   "metadata": {
    "collapsed": true
   },
   "source": [
    "#操作练习: 敲击 m 键,把我转成markdown..."
   ]
  },
  {
   "cell_type": "markdown",
   "metadata": {
    "collapsed": true
   },
   "source": [
    "# 操作练习: 依次敲击数字 1、2、3、4、5、6 键,把我转成具有各级标题的markdown..."
   ]
  },
  {
   "cell_type": "markdown",
   "metadata": {},
   "source": [
    "  - **Enter**：当前的cell进入编辑模式\n",
    "  - **Esc**：退出当前cell的编辑模式"
   ]
  },
  {
   "cell_type": "code",
   "execution_count": null,
   "metadata": {
    "collapsed": true
   },
   "outputs": [],
   "source": [
    "#操作练习3: 当前的cell进入编辑模式：Enter"
   ]
  },
  {
   "cell_type": "code",
   "execution_count": null,
   "metadata": {
    "collapsed": true
   },
   "outputs": [],
   "source": [
    "#操作练习4: 退出当前cell的编辑模式：Esc"
   ]
  },
  {
   "cell_type": "markdown",
   "metadata": {},
   "source": [
    "  - **Shift+Enter**：执行当前cell，并自动跳到下一个cell\n",
    "  - **Ctrl+Enter**：执行当前cell，执行后***不自动调转* **到下一个cell"
   ]
  },
  {
   "cell_type": "markdown",
   "metadata": {
    "collapsed": true
   },
   "source": [
    "#操作练习：执行当前cell，并自动跳到下一个cell：Shift+Enter"
   ]
  },
  {
   "cell_type": "markdown",
   "metadata": {
    "collapsed": true
   },
   "source": [
    "#操作练习：执行当前cell，执行后不自动调转到下一个cell：Ctrl+Enter"
   ]
  },
  {
   "cell_type": "markdown",
   "metadata": {},
   "source": [
    "  - 为当前的cell加入line number：单L（命令模式）"
   ]
  },
  {
   "cell_type": "code",
   "execution_count": null,
   "metadata": {
    "collapsed": true
   },
   "outputs": [],
   "source": [
    "#操作练习：为当前的cell加入line number：单L（命令模式）\n",
    "%matplotlib inline\n",
    "import numpy as np\n",
    "import matplotlib as mpl\n",
    "import matplotlib.pyplot as plt\n",
    "np.random.seed(sum(map(ord, \"aesthetics\"))) # 给每一个任务单独分配随机种子\n",
    "def sinplot(flip=1):\n",
    "    x = np.linspace(0, 14, 100)\n",
    "    for i in range(1, 7): # up to but not include\n",
    "        plt.plot(x, np.sin(x + i * .5) * (7 - i) * flip)\n",
    "sinplot()"
   ]
  },
  {
   "cell_type": "markdown",
   "metadata": {},
   "source": [
    "  - 浏览器的各个Tab之间切换：`Crtl PgUp`和`Crtl PgDn` （命令模式）\n",
    "  - 快速跳转到首个cell：`Crtl Home` （命令模式）\n",
    "  - 快速跳转到最后一个cell：`Crtl End` （命令模式）"
   ]
  }
 ],
 "metadata": {
  "kernelspec": {
   "display_name": "Python 3",
   "language": "python",
   "name": "python3"
  },
  "language_info": {
   "codemirror_mode": {
    "name": "ipython",
    "version": 3
   },
   "file_extension": ".py",
   "mimetype": "text/x-python",
   "name": "python",
   "nbconvert_exporter": "python",
   "pygments_lexer": "ipython3",
   "version": "3.7.4"
  },
  "toc": {
   "base_numbering": 1,
   "nav_menu": {},
   "number_sections": true,
   "sideBar": true,
   "skip_h1_title": false,
   "title_cell": "Table of Contents",
   "title_sidebar": "Contents",
   "toc_cell": false,
   "toc_position": {},
   "toc_section_display": true,
   "toc_window_display": false
  }
 },
 "nbformat": 4,
 "nbformat_minor": 2
}
